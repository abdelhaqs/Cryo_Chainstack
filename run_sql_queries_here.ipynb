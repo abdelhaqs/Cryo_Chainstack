{
 "cells": [
  {
   "cell_type": "code",
   "execution_count": 19,
   "metadata": {},
   "outputs": [],
   "source": [
    "import duckdb\n",
    "import pandas as pd"
   ]
  },
  {
   "cell_type": "code",
   "execution_count": 20,
   "metadata": {},
   "outputs": [
    {
     "data": {
      "text/html": [
       "<div>\n",
       "<style scoped>\n",
       "    .dataframe tbody tr th:only-of-type {\n",
       "        vertical-align: middle;\n",
       "    }\n",
       "\n",
       "    .dataframe tbody tr th {\n",
       "        vertical-align: top;\n",
       "    }\n",
       "\n",
       "    .dataframe thead th {\n",
       "        text-align: right;\n",
       "    }\n",
       "</style>\n",
       "<table border=\"1\" class=\"dataframe\">\n",
       "  <thead>\n",
       "    <tr style=\"text-align: right;\">\n",
       "      <th></th>\n",
       "      <th>name</th>\n",
       "    </tr>\n",
       "  </thead>\n",
       "  <tbody>\n",
       "    <tr>\n",
       "      <th>0</th>\n",
       "      <td>optimism_sepolia_blocks</td>\n",
       "    </tr>\n",
       "    <tr>\n",
       "      <th>1</th>\n",
       "      <td>optimism_sepolia_logs</td>\n",
       "    </tr>\n",
       "    <tr>\n",
       "      <th>2</th>\n",
       "      <td>optimism_sepolia_transactions</td>\n",
       "    </tr>\n",
       "  </tbody>\n",
       "</table>\n",
       "</div>"
      ],
      "text/plain": [
       "                            name\n",
       "0        optimism_sepolia_blocks\n",
       "1          optimism_sepolia_logs\n",
       "2  optimism_sepolia_transactions"
      ]
     },
     "metadata": {},
     "output_type": "display_data"
    }
   ],
   "source": [
    "sql_query = '''\n",
    "show tables\n",
    "'''\n",
    "\n",
    "with duckdb.connect('data/BLOCKCHAIN.db') as con:\n",
    "    display(con.sql(sql_query).df())"
   ]
  },
  {
   "cell_type": "code",
   "execution_count": 21,
   "metadata": {},
   "outputs": [],
   "source": [
    "sql_query_import_1 = '''\n",
    "CREATE OR REPLACE TABLE optimism_sepolia_logs AS\n",
    "SELECT *\n",
    "FROM read_parquet(\n",
    "  'raw/logs/*.parquet'\n",
    "  )\n",
    "'''\n",
    "\n",
    "sql_query_import_2 = '''\n",
    "CREATE OR REPLACE TABLE optimism_sepolia_blocks AS\n",
    "SELECT *\n",
    "FROM read_parquet(\n",
    "  'raw/blocks/*.parquet'\n",
    "  )\n",
    "'''\n",
    "\n",
    "sql_query_import_3 = '''\n",
    "CREATE OR REPLACE TABLE optimism_sepolia_transactions AS\n",
    "SELECT *\n",
    "FROM read_parquet(\n",
    "  'raw/transactions/*.parquet'\n",
    "  )\n",
    "'''\n",
    "\n",
    "with duckdb.connect('data/BLOCKCHAIN.db') as con:\n",
    "  con.sql(sql_query_import_1)\n",
    "  con.sql(sql_query_import_2)\n",
    "  con.sql(sql_query_import_3)"
   ]
  },
  {
   "cell_type": "code",
   "execution_count": 22,
   "metadata": {},
   "outputs": [
    {
     "data": {
      "text/html": [
       "<div>\n",
       "<style scoped>\n",
       "    .dataframe tbody tr th:only-of-type {\n",
       "        vertical-align: middle;\n",
       "    }\n",
       "\n",
       "    .dataframe tbody tr th {\n",
       "        vertical-align: top;\n",
       "    }\n",
       "\n",
       "    .dataframe thead th {\n",
       "        text-align: right;\n",
       "    }\n",
       "</style>\n",
       "<table border=\"1\" class=\"dataframe\">\n",
       "  <thead>\n",
       "    <tr style=\"text-align: right;\">\n",
       "      <th></th>\n",
       "      <th>name</th>\n",
       "    </tr>\n",
       "  </thead>\n",
       "  <tbody>\n",
       "    <tr>\n",
       "      <th>0</th>\n",
       "      <td>optimism_sepolia_blocks</td>\n",
       "    </tr>\n",
       "    <tr>\n",
       "      <th>1</th>\n",
       "      <td>optimism_sepolia_logs</td>\n",
       "    </tr>\n",
       "    <tr>\n",
       "      <th>2</th>\n",
       "      <td>optimism_sepolia_transactions</td>\n",
       "    </tr>\n",
       "  </tbody>\n",
       "</table>\n",
       "</div>"
      ],
      "text/plain": [
       "                            name\n",
       "0        optimism_sepolia_blocks\n",
       "1          optimism_sepolia_logs\n",
       "2  optimism_sepolia_transactions"
      ]
     },
     "metadata": {},
     "output_type": "display_data"
    }
   ],
   "source": [
    "sql_query = '''\n",
    "show tables\n",
    "'''\n",
    "\n",
    "with duckdb.connect('data/BLOCKCHAIN.db') as con:\n",
    "    display(con.sql(sql_query).df())"
   ]
  },
  {
   "cell_type": "code",
   "execution_count": 17,
   "metadata": {},
   "outputs": [],
   "source": [
    "sql_query = '''\n",
    "DROP TABLE IF EXISTS optimism_sepolia_logs\n",
    "'''\n",
    "\n",
    "with duckdb.connect('data/BLOCKCHAIN.db') as con:\n",
    "    con.sql(sql_query)\n"
   ]
  },
  {
   "cell_type": "code",
   "execution_count": 8,
   "metadata": {},
   "outputs": [
    {
     "data": {
      "text/html": [
       "<div>\n",
       "<style scoped>\n",
       "    .dataframe tbody tr th:only-of-type {\n",
       "        vertical-align: middle;\n",
       "    }\n",
       "\n",
       "    .dataframe tbody tr th {\n",
       "        vertical-align: top;\n",
       "    }\n",
       "\n",
       "    .dataframe thead th {\n",
       "        text-align: right;\n",
       "    }\n",
       "</style>\n",
       "<table border=\"1\" class=\"dataframe\">\n",
       "  <thead>\n",
       "    <tr style=\"text-align: right;\">\n",
       "      <th></th>\n",
       "      <th>count_logs</th>\n",
       "    </tr>\n",
       "  </thead>\n",
       "  <tbody>\n",
       "    <tr>\n",
       "      <th>0</th>\n",
       "      <td>12312</td>\n",
       "    </tr>\n",
       "  </tbody>\n",
       "</table>\n",
       "</div>"
      ],
      "text/plain": [
       "   count_logs\n",
       "0       12312"
      ]
     },
     "metadata": {},
     "output_type": "display_data"
    },
    {
     "data": {
      "text/html": [
       "<div>\n",
       "<style scoped>\n",
       "    .dataframe tbody tr th:only-of-type {\n",
       "        vertical-align: middle;\n",
       "    }\n",
       "\n",
       "    .dataframe tbody tr th {\n",
       "        vertical-align: top;\n",
       "    }\n",
       "\n",
       "    .dataframe thead th {\n",
       "        text-align: right;\n",
       "    }\n",
       "</style>\n",
       "<table border=\"1\" class=\"dataframe\">\n",
       "  <thead>\n",
       "    <tr style=\"text-align: right;\">\n",
       "      <th></th>\n",
       "      <th>count_transactions</th>\n",
       "    </tr>\n",
       "  </thead>\n",
       "  <tbody>\n",
       "    <tr>\n",
       "      <th>0</th>\n",
       "      <td>4143</td>\n",
       "    </tr>\n",
       "  </tbody>\n",
       "</table>\n",
       "</div>"
      ],
      "text/plain": [
       "   count_transactions\n",
       "0                4143"
      ]
     },
     "metadata": {},
     "output_type": "display_data"
    }
   ],
   "source": [
    "sql_query = '''\n",
    "SELECT count(*) count_logs\n",
    "FROM optimism_sepolia_logs\n",
    "'''\n",
    "\n",
    "sql_query2 = '''\n",
    "SELECT count(*) count_transactions\n",
    "FROM optimism_sepolia_transactions\n",
    "'''\n",
    "\n",
    "sql_query2 = '''\n",
    "SELECT count(*) count_blocks\n",
    "FROM optimism_sepolia_blocks\n",
    "'''\n",
    "\n",
    "with duckdb.connect('data/BLOCKCHAIN.db') as con:\n",
    "    display(con.sql(sql_query).df())\n",
    "    display(con.sql(sql_query2).df())\n",
    "    display(con.sql(sql_query3).df())"
   ]
  }
 ],
 "metadata": {
  "kernelspec": {
   "display_name": "Python 3",
   "language": "python",
   "name": "python3"
  },
  "language_info": {
   "codemirror_mode": {
    "name": "ipython",
    "version": 3
   },
   "file_extension": ".py",
   "mimetype": "text/x-python",
   "name": "python",
   "nbconvert_exporter": "python",
   "pygments_lexer": "ipython3",
   "version": "3.12.2"
  },
  "orig_nbformat": 4,
  "vscode": {
   "interpreter": {
    "hash": "31f2aee4e71d21fbe5cf8b01ff0e069b9275f58929596ceb00d14d90e3e16cd6"
   }
  }
 },
 "nbformat": 4,
 "nbformat_minor": 2
}
